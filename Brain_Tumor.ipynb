{
  "nbformat": 4,
  "nbformat_minor": 0,
  "metadata": {
    "colab": {
      "name": "Brain_Tumor.ipynb",
      "provenance": [],
      "collapsed_sections": [],
      "authorship_tag": "ABX9TyO0F5t3h6km4wWEuS2NUOgG",
      "include_colab_link": true
    },
    "kernelspec": {
      "name": "python3",
      "display_name": "Python 3"
    },
    "language_info": {
      "name": "python"
    }
  },
  "cells": [
    {
      "cell_type": "markdown",
      "metadata": {
        "id": "view-in-github",
        "colab_type": "text"
      },
      "source": [
        "<a href=\"https://colab.research.google.com/github/muhammadfarhantanvir/Activity-Example/blob/master/Brain_Tumor.ipynb\" target=\"_parent\"><img src=\"https://colab.research.google.com/assets/colab-badge.svg\" alt=\"Open In Colab\"/></a>"
      ]
    },
    {
      "cell_type": "code",
      "source": [
        "from zipfile import ZipFile\n",
        "file_name= \"mymodel.zip\"\n",
        "with ZipFile(file_name,'r') as zip:\n",
        "  zip.extractall()\n",
        "  print('Done')"
      ],
      "metadata": {
        "colab": {
          "base_uri": "https://localhost:8080/"
        },
        "id": "9KeLNgflLV7g",
        "outputId": "f9fb87cc-32c0-4be3-a514-db89eeaba333"
      },
      "execution_count": 33,
      "outputs": [
        {
          "output_type": "stream",
          "name": "stdout",
          "text": [
            "Done\n"
          ]
        }
      ]
    },
    {
      "cell_type": "code",
      "execution_count": 1,
      "metadata": {
        "colab": {
          "base_uri": "https://localhost:8080/"
        },
        "id": "eu9Zk5vxFGtb",
        "outputId": "da07c5e6-8180-495f-9cd2-bd9c8153ecc7"
      },
      "outputs": [
        {
          "output_type": "stream",
          "name": "stdout",
          "text": [
            "Done\n"
          ]
        }
      ],
      "source": [
        "from zipfile import ZipFile\n",
        "file_name= \"brain.zip\"\n",
        "with ZipFile(file_name,'r') as zip:\n",
        "  zip.extractall()\n",
        "  print('Done')"
      ]
    },
    {
      "cell_type": "code",
      "source": [
        "import numpy as np # linear algebra\n",
        "import pandas as pd # data processing, CSV file I/O (e.g. pd.read_csv)\n",
        "\n",
        "# Input data files are available in the read-only \"../input/\" directory\n",
        "# For example, running this (by clicking run or pressing Shift+Enter) will list all files under the input directory\n",
        "\n",
        "import os\n",
        "# for dirname, _, filenames in os.walk('/kaggle/input'):\n",
        "#     for filename in filenames:\n",
        "#         print(os.path.join(dirname, filename))\n",
        "from sklearn.model_selection import train_test_split\n",
        "\n",
        "import tensorflow as tf\n",
        "from tensorflow import keras\n",
        "import cv2 as cv\n",
        "import glob as gb\n",
        "import matplotlib.pyplot as plt\n",
        "from keras.layers import Dense,Dropout,Conv2D,MaxPooling2D,BatchNormalization ,Flatten\n",
        "from keras.models import Sequential,Model\n",
        "from sklearn.utils import shuffle\n",
        "from keras.callbacks import EarlyStopping\n",
        "from keras.preprocessing.image import ImageDataGenerator\n",
        "from sklearn.metrics import classification_report\n",
        "from sklearn.metrics import confusion_matrix\n",
        "\n",
        "\n",
        "# You can write up to 20GB to the current directory (/kaggle/working/) that gets preserved as output when you create a version using \"Save & Run All\" \n",
        "# You can also write temporary files to /kaggle/temp/, but they won't be saved outside of the current session"
      ],
      "metadata": {
        "id": "-gjknMPhHTn5"
      },
      "execution_count": 2,
      "outputs": []
    },
    {
      "cell_type": "code",
      "source": [
        "os.listdir('brain_tumor_dataset')"
      ],
      "metadata": {
        "colab": {
          "base_uri": "https://localhost:8080/"
        },
        "id": "ihrWtqIbHZqK",
        "outputId": "425701fa-3c37-490f-c8d7-e68bd181a2c9"
      },
      "execution_count": 5,
      "outputs": [
        {
          "output_type": "execute_result",
          "data": {
            "text/plain": [
              "['yes', 'no']"
            ]
          },
          "metadata": {},
          "execution_count": 5
        }
      ]
    },
    {
      "cell_type": "code",
      "source": [
        "paths ={\n",
        "        'path' :'brain_tumor_dataset',\n",
        "        'train':'brain_tumor_dataset',\n",
        "        'test' :'brain_tumor_dataset'\n",
        "      \n",
        "        }"
      ],
      "metadata": {
        "id": "D0djaKuBHoK7"
      },
      "execution_count": 38,
      "outputs": []
    },
    {
      "cell_type": "code",
      "source": [
        "def get_size(path):\n",
        "    x =[]\n",
        "    for folder in os.listdir(path):\n",
        "       \n",
        "        files = gb.glob(pathname=str(path+'/'+folder+'/*.jpg'))\n",
        "        \n",
        "        for file in files:\n",
        "            img = plt.imread(file)\n",
        "           \n",
        "            x.append(img.shape)\n",
        "    return x"
      ],
      "metadata": {
        "id": "C8mtllHyHsgx"
      },
      "execution_count": 7,
      "outputs": []
    },
    {
      "cell_type": "code",
      "source": [
        "train_size =get_size(paths['train'])\n",
        "pd.Series(train_size).value_counts()"
      ],
      "metadata": {
        "colab": {
          "base_uri": "https://localhost:8080/"
        },
        "id": "pA6BjxP3HvNI",
        "outputId": "c48db2cd-9951-4871-b5f3-61e415d09e7f"
      },
      "execution_count": 10,
      "outputs": [
        {
          "output_type": "execute_result",
          "data": {
            "text/plain": [
              "(225, 225, 3)    17\n",
              "(630, 630, 3)     5\n",
              "(251, 201, 3)     5\n",
              "(325, 300)        4\n",
              "(217, 232, 3)     3\n",
              "                 ..\n",
              "(380, 318, 3)     1\n",
              "(246, 205, 3)     1\n",
              "(222, 227, 3)     1\n",
              "(890, 700, 3)     1\n",
              "(218, 180, 3)     1\n",
              "Length: 115, dtype: int64"
            ]
          },
          "metadata": {},
          "execution_count": 10
        }
      ]
    },
    {
      "cell_type": "code",
      "source": [
        "code ={'no':0,'yes':1}\n",
        "def Load_Label_Data(path,image_size):\n",
        "    x = []\n",
        "    y = []\n",
        "    for folder in os.listdir(path):\n",
        "        files = gb.glob(pathname=path+'/'+folder+'/*.jpg')\n",
        "        for file in files:\n",
        "            img = cv.imread(file)\n",
        "            img = cv.resize(img,(image_size,image_size))\n",
        "            x.append(list(img))\n",
        "            del img\n",
        "            y.append(code[folder])\n",
        "    x = np.array(x)\n",
        "    y = np.array(y) \n",
        "    x,y = shuffle(x,y)\n",
        "    return x , y"
      ],
      "metadata": {
        "id": "yzmbxXuDILib"
      },
      "execution_count": 11,
      "outputs": []
    },
    {
      "cell_type": "code",
      "source": [
        "image_size = 224\n",
        "X , y = Load_Label_Data(paths['train'],image_size)"
      ],
      "metadata": {
        "id": "5dqURxI2IMzC"
      },
      "execution_count": 60,
      "outputs": []
    },
    {
      "cell_type": "code",
      "source": [
        "plt.imshow(X[0])\n",
        "plt.axis('off')\n",
        "plt.title(y[0])"
      ],
      "metadata": {
        "colab": {
          "base_uri": "https://localhost:8080/",
          "height": 282
        },
        "id": "wvTOIl49IPdC",
        "outputId": "0924320b-4a2c-4144-ecc9-e12d2d460957"
      },
      "execution_count": 61,
      "outputs": [
        {
          "output_type": "execute_result",
          "data": {
            "text/plain": [
              "Text(0.5, 1.0, '1')"
            ]
          },
          "metadata": {},
          "execution_count": 61
        },
        {
          "output_type": "display_data",
          "data": {
            "image/png": "[encoded data removed]",
            "text/plain": [
              "<Figure size 432x288 with 1 Axes>"
            ]
          },
          "metadata": {
            "needs_background": "light"
          }
        }
      ]
    },
    {
      "cell_type": "code",
      "source": [
        "X_train,X_test , y_train,y_test=train_test_split(X,y,test_size=.2,random_state=42)"
      ],
      "metadata": {
        "id": "BQ4LSAfnIU_i"
      },
      "execution_count": 62,
      "outputs": []
    },
    {
      "cell_type": "code",
      "source": [
        "print('y Train before Shape : ', y_train.shape )\n",
        "y_train = keras.utils.to_categorical(y_train,num_classes=2)\n",
        "print('y Train after Shape : ', y_train.shape )\n",
        "print('y Test before Shape : ', y_test.shape )\n",
        "y_test= keras.utils.to_categorical(y_test,num_classes=2)\n",
        "print('y Test after Shape : ', y_test.shape )"
      ],
      "metadata": {
        "colab": {
          "base_uri": "https://localhost:8080/"
        },
        "id": "QjVYM0FKIWWS",
        "outputId": "b1aa0b4f-6af6-432e-dfa9-e60e5966456c"
      },
      "execution_count": 63,
      "outputs": [
        {
          "output_type": "stream",
          "name": "stdout",
          "text": [
            "y Train before Shape :  (136,)\n",
            "y Train after Shape :  (136, 2)\n",
            "y Test before Shape :  (35,)\n",
            "y Test after Shape :  (35, 2)\n"
          ]
        }
      ]
    },
    {
      "cell_type": "code",
      "source": [
        "my_model = keras.models.load_model('vgg16-95-accuracy-brain.h5')"
      ],
      "metadata": {
        "id": "Efdz7e-NIWoZ"
      },
      "execution_count": 64,
      "outputs": []
    },
    {
      "cell_type": "code",
      "source": [
        "my_model.summary()"
      ],
      "metadata": {
        "colab": {
          "base_uri": "https://localhost:8080/"
        },
        "id": "_o6y8N3EIia_",
        "outputId": "d7d37e74-b46e-47ad-c482-576a86c08a32"
      },
      "execution_count": 65,
      "outputs": [
        {
          "output_type": "stream",
          "name": "stdout",
          "text": [
            "Model: \"sequential_10\"\n",
            "_________________________________________________________________\n",
            " Layer (type)                Output Shape              Param #   \n",
            "=================================================================\n",
            " block1_conv1 (Conv2D)       (None, 224, 224, 64)      1792      \n",
            "                                                                 \n",
            " block1_conv2 (Conv2D)       (None, 224, 224, 64)      36928     \n",
            "                                                                 \n",
            " block1_pool (MaxPooling2D)  (None, 112, 112, 64)      0         \n",
            "                                                                 \n",
            " block2_conv1 (Conv2D)       (None, 112, 112, 128)     73856     \n",
            "                                                                 \n",
            " block2_conv2 (Conv2D)       (None, 112, 112, 128)     147584    \n",
            "                                                                 \n",
            " block2_pool (MaxPooling2D)  (None, 56, 56, 128)       0         \n",
            "                                                                 \n",
            " block3_conv1 (Conv2D)       (None, 56, 56, 256)       295168    \n",
            "                                                                 \n",
            " block3_conv2 (Conv2D)       (None, 56, 56, 256)       590080    \n",
            "                                                                 \n",
            " block3_conv3 (Conv2D)       (None, 56, 56, 256)       590080    \n",
            "                                                                 \n",
            " block3_pool (MaxPooling2D)  (None, 28, 28, 256)       0         \n",
            "                                                                 \n",
            " block4_conv1 (Conv2D)       (None, 28, 28, 512)       1180160   \n",
            "                                                                 \n",
            " block4_conv2 (Conv2D)       (None, 28, 28, 512)       2359808   \n",
            "                                                                 \n",
            " block4_conv3 (Conv2D)       (None, 28, 28, 512)       2359808   \n",
            "                                                                 \n",
            " block4_pool (MaxPooling2D)  (None, 14, 14, 512)       0         \n",
            "                                                                 \n",
            " block5_conv1 (Conv2D)       (None, 14, 14, 512)       2359808   \n",
            "                                                                 \n",
            " block5_conv2 (Conv2D)       (None, 14, 14, 512)       2359808   \n",
            "                                                                 \n",
            " block5_conv3 (Conv2D)       (None, 14, 14, 512)       2359808   \n",
            "                                                                 \n",
            " block5_pool (MaxPooling2D)  (None, 7, 7, 512)         0         \n",
            "                                                                 \n",
            " flatten (Flatten)           (None, 25088)             0         \n",
            "                                                                 \n",
            " dense_17 (Dense)            (None, 32)                802848    \n",
            "                                                                 \n",
            " dense_18 (Dense)            (None, 16)                528       \n",
            "                                                                 \n",
            " dense_19 (Dense)            (None, 16)                272       \n",
            "                                                                 \n",
            " dense_20 (Dense)            (None, 2)                 34        \n",
            "                                                                 \n",
            "=================================================================\n",
            "Total params: 15,518,370\n",
            "Trainable params: 803,682\n",
            "Non-trainable params: 14,714,688\n",
            "_________________________________________________________________\n"
          ]
        }
      ]
    },
    {
      "cell_type": "code",
      "source": [
        "for layer in my_model.layers[:-1]:\n",
        "    layer.trainable =False\n",
        "my_model.fit(X_train, y_train, epochs=5, validation_split=.2, verbose=1)"
      ],
      "metadata": {
        "colab": {
          "base_uri": "https://localhost:8080/"
        },
        "id": "DAVCr_AWIkq7",
        "outputId": "61c16287-0e15-4016-cf77-5db2e5f99b09"
      },
      "execution_count": 66,
      "outputs": [
        {
          "output_type": "stream",
          "name": "stdout",
          "text": [
            "Epoch 1/5\n",
            "4/4 [==============================] - 67s 17s/step - loss: 1.0328 - accuracy: 0.7778 - val_loss: 0.9428 - val_accuracy: 0.6786\n",
            "Epoch 2/5\n",
            "4/4 [==============================] - 66s 17s/step - loss: 0.5337 - accuracy: 0.8148 - val_loss: 0.1243 - val_accuracy: 0.9643\n",
            "Epoch 3/5\n",
            "4/4 [==============================] - 66s 17s/step - loss: 0.0056 - accuracy: 1.0000 - val_loss: 0.1056 - val_accuracy: 0.9643\n",
            "Epoch 4/5\n",
            "4/4 [==============================] - 66s 17s/step - loss: 0.0038 - accuracy: 1.0000 - val_loss: 0.0838 - val_accuracy: 0.9643\n",
            "Epoch 5/5\n",
            "4/4 [==============================] - 66s 17s/step - loss: 0.0028 - accuracy: 1.0000 - val_loss: 0.0765 - val_accuracy: 0.9643\n"
          ]
        },
        {
          "output_type": "execute_result",
          "data": {
            "text/plain": [
              "<keras.callbacks.History at 0x7f65e5943dd0>"
            ]
          },
          "metadata": {},
          "execution_count": 66
        }
      ]
    },
    {
      "cell_type": "code",
      "source": [
        "my_model.evaluate(X_test,y_test)"
      ],
      "metadata": {
        "colab": {
          "base_uri": "https://localhost:8080/"
        },
        "id": "_GVaONAuImyj",
        "outputId": "2d1f2f4d-7137-4809-938b-2e7e96f51e88"
      },
      "execution_count": 67,
      "outputs": [
        {
          "output_type": "stream",
          "name": "stdout",
          "text": [
            "2/2 [==============================] - 17s 1s/step - loss: 0.0118 - accuracy: 1.0000\n"
          ]
        },
        {
          "output_type": "execute_result",
          "data": {
            "text/plain": [
              "[0.011799013242125511, 1.0]"
            ]
          },
          "metadata": {},
          "execution_count": 67
        }
      ]
    },
    {
      "cell_type": "code",
      "source": [
        "y_hat = my_model.predict(X_test)"
      ],
      "metadata": {
        "id": "84duJ3huIoyM"
      },
      "execution_count": 68,
      "outputs": []
    },
    {
      "cell_type": "code",
      "source": [
        "print(classification_report(np.argmax(y_test,axis=1),np.argmax(y_hat,axis=1)))"
      ],
      "metadata": {
        "colab": {
          "base_uri": "https://localhost:8080/"
        },
        "id": "nhLipCStIq59",
        "outputId": "5bbeea36-a6cc-4790-eca9-0978250a2a48"
      },
      "execution_count": 69,
      "outputs": [
        {
          "output_type": "stream",
          "name": "stdout",
          "text": [
            "              precision    recall  f1-score   support\n",
            "\n",
            "           0       1.00      1.00      1.00        18\n",
            "           1       1.00      1.00      1.00        17\n",
            "\n",
            "    accuracy                           1.00        35\n",
            "   macro avg       1.00      1.00      1.00        35\n",
            "weighted avg       1.00      1.00      1.00        35\n",
            "\n"
          ]
        }
      ]
    },
    {
      "cell_type": "code",
      "source": [
        "print(confusion_matrix(np.argmax(y_test,axis=1),np.argmax(y_hat,axis=1)))"
      ],
      "metadata": {
        "colab": {
          "base_uri": "https://localhost:8080/"
        },
        "id": "rpWUDokcItY9",
        "outputId": "22d57cc1-fbbe-421e-f997-dc7ac8c76d07"
      },
      "execution_count": 70,
      "outputs": [
        {
          "output_type": "stream",
          "name": "stdout",
          "text": [
            "[[18  0]\n",
            " [ 0 17]]\n"
          ]
        }
      ]
    }
  ]
}